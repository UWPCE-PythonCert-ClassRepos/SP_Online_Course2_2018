{
 "cells": [
  {
   "cell_type": "markdown",
   "metadata": {},
   "source": [
    "# Python\n"
   ]
  },
  {
   "cell_type": "markdown",
   "metadata": {},
   "source": [
    "Pure Python"
   ]
  },
  {
   "cell_type": "code",
   "execution_count": 2,
   "metadata": {},
   "outputs": [
    {
     "name": "stdout",
     "output_type": "stream",
     "text": [
      "run time:  6.624797344207764\n"
     ]
    }
   ],
   "source": [
    "import math\n",
    "import cython\n",
    "import time \n",
    "lon1, lat1, lon2, lat2 = -72.345, 34.323, -61.823, 54.826\n",
    "\n",
    "def great_circle_raw(lon1, lat1, lon2, lat2):\n",
    "    radius = 3956 # miles\n",
    "    x = math.pi / 180.0\n",
    "    a = (90.0 - lat1) * (x)\n",
    "    b = (90.0 - lat2) * (x)\n",
    "    theta = (lon2 - lon1) * (x)\n",
    "    theta = (lon2 - lon1) * (x)\n",
    "    c = math.acos((math.cos(a) * math.cos(b)) + (math.sin(a) * math.sin(b) * math.cos(theta)))\n",
    "    return radius * c\n",
    "\n",
    "def calculate_acos(a, b, theta):\n",
    "    return math.acos((math.cos(a) * math.cos(b)) + (math.sin(a) * math.sin(b) * math.cos(theta)))\n",
    "\n",
    "def great_circle_acos(lon1, lat1, lon2, lat2):\n",
    "    radius = 3956 # miles\n",
    "    x = math.pi / 180.0\n",
    "    a = (90.0 - lat1) * (x)\n",
    "    b = (90.0 - lat2) * (x)\n",
    "    theta = (lon2 - lon1) * (x)\n",
    "    theta = (lon2 - lon1) * (x)\n",
    "#     c = math.acos((math.cos(a) * math.cos(b)) + (math.sin(a) * math.sin(b) * math.cos(theta)))\n",
    "    c = calculate_acos(a, b, theta)\n",
    "    return radius * c\n",
    "    \n",
    "def calculate_x():\n",
    "    return math.pi * 180.0\n",
    "\n",
    "def calculate_coordinate(lat, x):\n",
    "    return (90.0 - lat) * x\n",
    "\n",
    "def calculate_theta(lon2, lon1, x):\n",
    "    return (lon2 - lon1) * x\n",
    "\n",
    "def great_circle_factored(lon1, lat1, lon2, lat2):\n",
    "    radius = 3956 # miles\n",
    "    x = calculate_x()\n",
    "    a = calculate_coordinate(lat1, x)\n",
    "    b = calculate_coordinate(lat2, x)\n",
    "    theta = calculate_theta(lon2, lon1, x)\n",
    "    c = calculate_acos(a, b, theta)\n",
    "    return radius * c\n",
    "\n",
    "if __name__ == \"__main__\":\n",
    "    start = time.time()\n",
    "    for i in range(10000000):\n",
    "        great_circle_raw(lon1, lat1, lon2, lat2)\n",
    "#         great_circle_acos(lon1, lat1, lon2, lat2)\n",
    "#         great_circle_factored(lon1, lat1, lon2, lat2)\n",
    "    end = time.time()\n",
    "    print(\"run time: \",end-start)"
   ]
  },
  {
   "cell_type": "markdown",
   "metadata": {},
   "source": [
    "# Cython v1"
   ]
  },
  {
   "cell_type": "markdown",
   "metadata": {},
   "source": [
    "Cython: declare variable types"
   ]
  },
  {
   "cell_type": "code",
   "execution_count": 3,
   "metadata": {},
   "outputs": [
    {
     "name": "stdout",
     "output_type": "stream",
     "text": [
      "run time:  4.5421788692474365\n"
     ]
    }
   ],
   "source": [
    "# %%cython\n",
    "import time \n",
    "lon1, lat1, lon2, lat2 = -72.345, 34.323, -61.823, 54.826\n",
    "from great_circle_v1 import great_circle_raw\n",
    "\n",
    "start = time.time()\n",
    "for i in range(10000000):\n",
    "    great_circle_raw(lon1, lat1, lon2, lat2)\n",
    "#         great_circle_acos(lon1, lat1, lon2, lat2)\n",
    "#         great_circle_factored(lon1, lat1, lon2, lat2)\n",
    "end = time.time()\n",
    "print(\"run time: \",end-start)"
   ]
  },
  {
   "cell_type": "markdown",
   "metadata": {},
   "source": [
    "# Cython v2"
   ]
  },
  {
   "cell_type": "markdown",
   "metadata": {},
   "source": [
    "Use math.h from the C standard library instead of the Python math package"
   ]
  },
  {
   "cell_type": "code",
   "execution_count": 4,
   "metadata": {},
   "outputs": [
    {
     "name": "stdout",
     "output_type": "stream",
     "text": [
      "run time:  1.45029878616333\n"
     ]
    }
   ],
   "source": [
    "import time \n",
    "lon1, lat1, lon2, lat2 = -72.345, 34.323, -61.823, 54.826\n",
    "from great_circle_v2 import great_circle_raw\n",
    "\n",
    "start = time.time()\n",
    "for i in range(10000000):\n",
    "    great_circle_raw(lon1, lat1, lon2, lat2)\n",
    "#         great_circle_acos(lon1, lat1, lon2, lat2)\n",
    "#         great_circle_factored(lon1, lat1, lon2, lat2)\n",
    "end = time.time()\n",
    "print(\"run time: \",end-start)"
   ]
  },
  {
   "cell_type": "markdown",
   "metadata": {},
   "source": [
    "# Cython v3"
   ]
  },
  {
   "cell_type": "markdown",
   "metadata": {},
   "source": [
    "Put the for-loop into the Cython code"
   ]
  },
  {
   "cell_type": "code",
   "execution_count": 5,
   "metadata": {},
   "outputs": [
    {
     "name": "stdout",
     "output_type": "stream",
     "text": [
      "run time:  6.604194641113281e-05\n"
     ]
    }
   ],
   "source": [
    "import time \n",
    "lon1, lat1, lon2, lat2 = -72.345, 34.323, -61.823, 54.826\n",
    "from great_circle_v2 import great_circle_raw\n",
    "\n",
    "start = time.time()\n",
    "\n",
    "great_circle_raw(lon1, lat1, lon2, lat2)\n",
    "#         great_circle_acos(lon1, lat1, lon2, lat2)\n",
    "#         great_circle_factored(lon1, lat1, lon2, lat2)\n",
    "end = time.time()\n",
    "print(\"run time: \",end-start)"
   ]
  }
 ],
 "metadata": {
  "kernelspec": {
   "display_name": "trading",
   "language": "python",
   "name": "trading"
  },
  "language_info": {
   "codemirror_mode": {
    "name": "ipython",
    "version": 3
   },
   "file_extension": ".py",
   "mimetype": "text/x-python",
   "name": "python",
   "nbconvert_exporter": "python",
   "pygments_lexer": "ipython3",
   "version": "3.6.6"
  }
 },
 "nbformat": 4,
 "nbformat_minor": 2
}
